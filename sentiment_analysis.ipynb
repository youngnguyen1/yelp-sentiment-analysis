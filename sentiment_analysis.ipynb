{
 "cells": [
  {
   "cell_type": "markdown",
   "id": "7f6a5bc0-1e15-4479-b0f8-2941ceedd5a6",
   "metadata": {},
   "source": [
    "Author: Young Nguyen\n",
    "\n",
    "Date: July 19 2022\n",
    "\n",
    "This program runs a sentiment analysis on yelp reviews."
   ]
  },
  {
   "cell_type": "code",
   "execution_count": 4,
   "id": "8a16a16d-ac82-4cd5-bc93-3937a00a0328",
   "metadata": {},
   "outputs": [],
   "source": [
    "import pandas as pd\n",
    "import numpy as np\n",
    "from sklearn.naive_bayes import MultinomialNB\n",
    "from sklearn.feature_extraction.text import CountVectorizer\n",
    "from sklearn.model_selection import train_test_split"
   ]
  },
  {
   "cell_type": "markdown",
   "id": "fcdd4e9d-fd86-4746-a4c1-0e36186adb28",
   "metadata": {},
   "source": [
    "Original source: https://archive.ics.uci.edu/ml/datasets/Sentiment+Labelled+Sentences\n",
    "\n",
    "Dataset was originally created for the paper 'From Group to Individual Labels using Deep Features' Kotzias et. al,. KDD 2015"
   ]
  },
  {
   "cell_type": "code",
   "execution_count": 7,
   "id": "9f689de9-da2f-45bd-9e6b-4d9d223db2d9",
   "metadata": {},
   "outputs": [],
   "source": [
    "#import file\n",
    "yelp_df = pd.read_csv('sentiment labelled sentences/yelp_labelled.txt', engine = 'python', delimiter='\\t', header = None)"
   ]
  },
  {
   "cell_type": "code",
   "execution_count": 8,
   "id": "6ee6506b-a1fb-4028-85c5-e7bb971d5e56",
   "metadata": {},
   "outputs": [
    {
     "data": {
      "text/html": [
       "<div>\n",
       "<style scoped>\n",
       "    .dataframe tbody tr th:only-of-type {\n",
       "        vertical-align: middle;\n",
       "    }\n",
       "\n",
       "    .dataframe tbody tr th {\n",
       "        vertical-align: top;\n",
       "    }\n",
       "\n",
       "    .dataframe thead th {\n",
       "        text-align: right;\n",
       "    }\n",
       "</style>\n",
       "<table border=\"1\" class=\"dataframe\">\n",
       "  <thead>\n",
       "    <tr style=\"text-align: right;\">\n",
       "      <th></th>\n",
       "      <th>0</th>\n",
       "      <th>1</th>\n",
       "    </tr>\n",
       "  </thead>\n",
       "  <tbody>\n",
       "    <tr>\n",
       "      <th>0</th>\n",
       "      <td>Wow... Loved this place.</td>\n",
       "      <td>1</td>\n",
       "    </tr>\n",
       "    <tr>\n",
       "      <th>1</th>\n",
       "      <td>Crust is not good.</td>\n",
       "      <td>0</td>\n",
       "    </tr>\n",
       "    <tr>\n",
       "      <th>2</th>\n",
       "      <td>Not tasty and the texture was just nasty.</td>\n",
       "      <td>0</td>\n",
       "    </tr>\n",
       "    <tr>\n",
       "      <th>3</th>\n",
       "      <td>Stopped by during the late May bank holiday of...</td>\n",
       "      <td>1</td>\n",
       "    </tr>\n",
       "    <tr>\n",
       "      <th>4</th>\n",
       "      <td>The selection on the menu was great and so wer...</td>\n",
       "      <td>1</td>\n",
       "    </tr>\n",
       "    <tr>\n",
       "      <th>...</th>\n",
       "      <td>...</td>\n",
       "      <td>...</td>\n",
       "    </tr>\n",
       "    <tr>\n",
       "      <th>995</th>\n",
       "      <td>I think food should have flavor and texture an...</td>\n",
       "      <td>0</td>\n",
       "    </tr>\n",
       "    <tr>\n",
       "      <th>996</th>\n",
       "      <td>Appetite instantly gone.</td>\n",
       "      <td>0</td>\n",
       "    </tr>\n",
       "    <tr>\n",
       "      <th>997</th>\n",
       "      <td>Overall I was not impressed and would not go b...</td>\n",
       "      <td>0</td>\n",
       "    </tr>\n",
       "    <tr>\n",
       "      <th>998</th>\n",
       "      <td>The whole experience was underwhelming, and I ...</td>\n",
       "      <td>0</td>\n",
       "    </tr>\n",
       "    <tr>\n",
       "      <th>999</th>\n",
       "      <td>Then, as if I hadn't wasted enough of my life ...</td>\n",
       "      <td>0</td>\n",
       "    </tr>\n",
       "  </tbody>\n",
       "</table>\n",
       "<p>1000 rows × 2 columns</p>\n",
       "</div>"
      ],
      "text/plain": [
       "                                                     0  1\n",
       "0                             Wow... Loved this place.  1\n",
       "1                                   Crust is not good.  0\n",
       "2            Not tasty and the texture was just nasty.  0\n",
       "3    Stopped by during the late May bank holiday of...  1\n",
       "4    The selection on the menu was great and so wer...  1\n",
       "..                                                 ... ..\n",
       "995  I think food should have flavor and texture an...  0\n",
       "996                           Appetite instantly gone.  0\n",
       "997  Overall I was not impressed and would not go b...  0\n",
       "998  The whole experience was underwhelming, and I ...  0\n",
       "999  Then, as if I hadn't wasted enough of my life ...  0\n",
       "\n",
       "[1000 rows x 2 columns]"
      ]
     },
     "execution_count": 8,
     "metadata": {},
     "output_type": "execute_result"
    }
   ],
   "source": [
    "yelp_df\n",
    "#1 means a positive review, 0 means a negative review"
   ]
  },
  {
   "cell_type": "code",
   "execution_count": 17,
   "id": "cda4f3a6-d294-4ad4-ad29-cabdd7fc5d18",
   "metadata": {},
   "outputs": [],
   "source": [
    "#changing words into vectors\n",
    "Vectorizer = CountVectorizer()\n",
    "X, y = Vectorizer.fit_transform(yelp_df[0]), yelp_df[1]"
   ]
  },
  {
   "cell_type": "code",
   "execution_count": 27,
   "id": "64ff7c27-4900-4204-91ad-7a45e98f3f80",
   "metadata": {},
   "outputs": [],
   "source": [
    "#split training set 80-20, random seed 11\n",
    "X_train, X_test, y_train, y_test = train_test_split(X, y, test_size = .2, random_state = 11)"
   ]
  },
  {
   "cell_type": "code",
   "execution_count": 28,
   "id": "77f7f2ae-b707-4444-b2f7-b5d73c42bcb8",
   "metadata": {},
   "outputs": [
    {
     "data": {
      "text/plain": [
       "MultinomialNB()"
      ]
     },
     "execution_count": 28,
     "metadata": {},
     "output_type": "execute_result"
    }
   ],
   "source": [
    "#Fitting the training set into the Naive Bayes Algorithm\n",
    "classifier = MultinomialNB()\n",
    "classifier.fit(X_train, y_train)"
   ]
  },
  {
   "cell_type": "code",
   "execution_count": 29,
   "id": "5e07ae41-2496-445e-9651-79c180f2fa74",
   "metadata": {},
   "outputs": [
    {
     "name": "stdout",
     "output_type": "stream",
     "text": [
      "model accuracy: 0.815\n"
     ]
    }
   ],
   "source": [
    "#testing\n",
    "print('model accuracy: '+str(classifier.score(X_test, y_test)))"
   ]
  },
  {
   "cell_type": "code",
   "execution_count": 37,
   "id": "8a3f2f0f-7f47-4f90-8e72-8f0b507be755",
   "metadata": {},
   "outputs": [],
   "source": [
    "#Enter test yelp review\n",
    "yelp_review = 'The food was delicious'"
   ]
  },
  {
   "cell_type": "code",
   "execution_count": 38,
   "id": "cdf2cf2e-01d1-4ee4-b483-e2811d8915e8",
   "metadata": {},
   "outputs": [
    {
     "name": "stdout",
     "output_type": "stream",
     "text": [
      "This review is predicted POSITIVE with a probability of[0.95607237]\n"
     ]
    }
   ],
   "source": [
    "#Check if review is positive with probability\n",
    "rev = Vectorizer.transform([yelp_review])\n",
    "prediction = classifier.predict(rev)\n",
    "prob = classifier.predict_proba(rev)\n",
    "sign = ( 'NEGATIVE' if prediction[0] == 0 else 'POSITIVE' )\n",
    "print('This review is predicted ' + sign + ' with a probability of' + str(prob[0][prediction]))"
   ]
  },
  {
   "cell_type": "code",
   "execution_count": null,
   "id": "8b61ca57-05ff-41e9-aaec-566433598766",
   "metadata": {},
   "outputs": [],
   "source": []
  }
 ],
 "metadata": {
  "kernelspec": {
   "display_name": "Python 3 (ipykernel)",
   "language": "python",
   "name": "python3"
  },
  "language_info": {
   "codemirror_mode": {
    "name": "ipython",
    "version": 3
   },
   "file_extension": ".py",
   "mimetype": "text/x-python",
   "name": "python",
   "nbconvert_exporter": "python",
   "pygments_lexer": "ipython3",
   "version": "3.9.7"
  }
 },
 "nbformat": 4,
 "nbformat_minor": 5
}
